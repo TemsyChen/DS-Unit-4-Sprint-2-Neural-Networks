{
  "nbformat": 4,
  "nbformat_minor": 0,
  "metadata": {
    "colab": {
      "name": "LS_DS_424_Deploy_Assignment.ipynb",
      "provenance": [],
      "collapsed_sections": []
    },
    "kernelspec": {
      "name": "python3",
      "display_name": "Python 3"
    },
    "nteract": {
      "version": "0.22.4"
    },
    "accelerator": "GPU",
    "language_info": {
      "name": "python"
    }
  },
  "cells": [
    {
      "cell_type": "markdown",
      "metadata": {
        "id": "NGGrt9EYlCqY"
      },
      "source": [
        "\n",
        "\n",
        "\n",
        "# *Data Science Unit 4 Sprint 2 Assignment 4*\n",
        "\n",
        "Continue to use TensorFlow Keras & a sample of the [Quickdraw dataset](https://github.com/googlecreativelab/quickdraw-dataset) to build a sketch classification model. The dataset has been sampled to only 10 classes and 10000 observations per class. Apply regularization techniques to your model. \n",
        "\n",
        "**Don't forgot to switch to GPU on Colab!**\n",
        "\n",
        "## Objective \n",
        "\n",
        "In lecture, you were exposed to weight shrinkage also known as weight decay or Lp space reguarlization, Max Norn weight constraints, and dropout. \n",
        "\n",
        "In this assignment, you will run 3 experiments in order to perform a deep analysis on the effects that various regularization techniques have model performance and on the learned model weights. By the end of this assignment, these regularization techniques should no longer feel like blackboxes to you, i.e. completely mysterious as to how they work. \n"
      ]
    },
    {
      "cell_type": "markdown",
      "metadata": {
        "id": "ptJ2b3wk62Ud"
      },
      "source": [
        "#### Import libraries"
      ]
    },
    {
      "cell_type": "code",
      "metadata": {
        "id": "USXjs7Hk71Hy"
      },
      "source": [
        "# native libraries \n",
        "import os\n",
        "from time import time \n",
        "\n",
        "# data analysis libraries \n",
        "import numpy as np\n",
        "import pandas as pd\n",
        "import matplotlib.pyplot as plt\n",
        "import seaborn as sns\n",
        "\n",
        "# deep learning libraries \n",
        "from keras import Sequential\n",
        "from keras.callbacks import EarlyStopping, TensorBoard\n",
        "from keras.layers import Flatten, Dense, Dropout\n",
        "from keras.layers import ReLU\n",
        "from keras.initializers import GlorotUniform\n",
        "\n",
        "import tensorflow as tf\n",
        "from tensorflow.keras.datasets import fashion_mnist\n",
        "\n",
        "# regularizers \n",
        "from keras.regularizers import l2, l1\n",
        "from keras.constraints import MaxNorm\n",
        "\n",
        "# required for compatibility between sklearn and keras\n",
        "from tensorflow.keras.wrappers.scikit_learn import KerasClassifier\n",
        "\n",
        "from sklearn.model_selection import GridSearchCV\n",
        "\n",
        "\n",
        "%matplotlib inline"
      ],
      "execution_count": 2,
      "outputs": []
    },
    {
      "cell_type": "markdown",
      "metadata": {
        "id": "c8d1_nIOuoRM"
      },
      "source": [
        "### Load Data"
      ]
    },
    {
      "cell_type": "code",
      "metadata": {
        "id": "VKpcgyPsuoRN"
      },
      "source": [
        "def load_data():\n",
        "    \"\"\"\n",
        "    Load in and normalize image data set\n",
        "    \"\"\"\n",
        "    \n",
        "    # load in our dataset \n",
        "    (X_train, y_train), (X_test, y_test) = fashion_mnist.load_data()\n",
        "\n",
        "    # normalize pixel values between 0 and 1 \n",
        "    max_pixel_value = X_train.max()\n",
        "    X_train, X_test = X_train /max_pixel_value , X_test / max_pixel_value\n",
        "    \n",
        "    return X_train, y_train, X_test, y_test"
      ],
      "execution_count": 3,
      "outputs": []
    },
    {
      "cell_type": "code",
      "metadata": {
        "colab": {
          "base_uri": "https://localhost:8080/"
        },
        "id": "6uvCI6JfuoRP",
        "outputId": "d5d9364e-072d-4a28-9980-8699fd001a1f"
      },
      "source": [
        "X_train, y_train, X_test, y_test = load_data()"
      ],
      "execution_count": 4,
      "outputs": [
        {
          "output_type": "stream",
          "text": [
            "Downloading data from https://storage.googleapis.com/tensorflow/tf-keras-datasets/train-labels-idx1-ubyte.gz\n",
            "32768/29515 [=================================] - 0s 0us/step\n",
            "Downloading data from https://storage.googleapis.com/tensorflow/tf-keras-datasets/train-images-idx3-ubyte.gz\n",
            "26427392/26421880 [==============================] - 0s 0us/step\n",
            "Downloading data from https://storage.googleapis.com/tensorflow/tf-keras-datasets/t10k-labels-idx1-ubyte.gz\n",
            "8192/5148 [===============================================] - 0s 0us/step\n",
            "Downloading data from https://storage.googleapis.com/tensorflow/tf-keras-datasets/t10k-images-idx3-ubyte.gz\n",
            "4423680/4422102 [==============================] - 0s 0us/step\n"
          ],
          "name": "stdout"
        }
      ]
    },
    {
      "cell_type": "code",
      "metadata": {
        "colab": {
          "base_uri": "https://localhost:8080/"
        },
        "id": "V3aP6oQruoRQ",
        "outputId": "acdfef2f-18b7-4975-be01-f857d3e2b516"
      },
      "source": [
        "# this is equal to the number of nodes in the output layer\n",
        "N_labels = len(np.unique(y_train))\n",
        "N_labels"
      ],
      "execution_count": 5,
      "outputs": [
        {
          "output_type": "execute_result",
          "data": {
            "text/plain": [
              "10"
            ]
          },
          "metadata": {
            "tags": []
          },
          "execution_count": 5
        }
      ]
    },
    {
      "cell_type": "markdown",
      "metadata": {
        "id": "BUxXYATRuoRR"
      },
      "source": [
        "-----\n",
        "### Build Model\n",
        "\n",
        "Let's build out the model that we'll be using all throughout our experiments. \n",
        "\n",
        "Remember that **the whole point of regularization is to prevent overfitting.**\n",
        "\n",
        "\n",
        "![](https://hackernoon.com/hn-images/1*vuZxFMi5fODz2OEcpG-S1g.png)\n",
        "\n",
        "Overfitting happens when are model's are too complex, so in order to see a benefit from the use of regularization techniques we need to build a relatively complex model. \n",
        "\n",
        "Having said that, you might not have the computational resource to be able to train a complex model in a reasonable amount of time. So if this describes you, then you might want to consider using `build_simple_model`. Otherwise, I recommend that you use `build_complex_model`. \n",
        "\n",
        "This notebook will be using  `build_complex_model` to run our experiments. \n",
        "\n",
        "**NOTE:** Whichever function you end up using to build a model, take time to read through the code and make sure you understand what is happening. "
      ]
    },
    {
      "cell_type": "code",
      "metadata": {
        "id": "7p-YkavguoRT"
      },
      "source": [
        "def build_complex_model(Lp_reg=None, reg_penality=None, dropout_prob=0.0, maxnorm_wc=None):\n",
        "    \"\"\"\n",
        "    Build and return a regularized 3 hidden layer FCFF model \n",
        "    \n",
        "    Parameters\n",
        "    ----------\n",
        "    Lp_reg: None or object\n",
        "        If object, Lp_reg is either l1 or l2 regularization \n",
        "        If None, that means that l1 or l2 regularization will not be used.\n",
        "     \n",
        "    reg_penality: None or float\n",
        "        If float, reg_penality is a value typically between 1.0 and 0.0001\n",
        "        This is the regularization strength for l1 or l2 \n",
        "        \n",
        "        \n",
        "    dropout_prob: float\n",
        "        This is the probability that dropout regularization will exclude a node from a training iteration. \n",
        "        If this value is 0.0, that means that dropout will not be used. \n",
        "        \n",
        "    maxnorm_wc: None or float\n",
        "        If float, maxnorm_wc is the weight constraint that is used for Max Norm regularization\n",
        "        If None, that means that Max Norm regularization will not be used.\n",
        "        \n",
        "        \n",
        "    Return\n",
        "    ------\n",
        "    model: complied Keras model\n",
        "    \"\"\"\n",
        "    \n",
        "    # if reg_type is not None, then pass in the penality strength to whatever form of Lp space regularization this is \n",
        "    if Lp_reg is not None:\n",
        "        Lp_regularizer = Lp_reg(reg_penality)\n",
        "    else:\n",
        "        Lp_regularizer = None\n",
        "                \n",
        "    if maxnorm_wc is not None:\n",
        "        wc = MaxNorm(max_value=maxnorm_wc)\n",
        "    else:\n",
        "        wc = None\n",
        "\n",
        "\n",
        "    # instantiate Sequential class\n",
        "    model = Sequential([\n",
        "\n",
        "    # flatten images \n",
        "    Flatten(input_shape=(28,28)),\n",
        "\n",
        "    # hidden layer 1\n",
        "    Dense(500, kernel_regularizer=Lp_regularizer , kernel_constraint=wc), # remember that Keras refers to weight matrix as a kernel, i.e. weights = kernel\n",
        "    # act func 1\n",
        "    ReLU(negative_slope=0.01),\n",
        "    Dropout(dropout_prob),\n",
        "\n",
        "    # hidden layer 2\n",
        "    Dense(250, kernel_regularizer=Lp_regularizer, kernel_constraint=wc),\n",
        "    # act func 2\n",
        "    ReLU(negative_slope=0.01),\n",
        "    Dropout(dropout_prob),\n",
        "\n",
        "    # hidden layer 3\n",
        "    Dense(64, kernel_regularizer=Lp_regularizer, kernel_constraint=wc),\n",
        "    # act func 3\n",
        "    ReLU(negative_slope=0.01),\n",
        "    Dropout(dropout_prob),\n",
        "\n",
        "    # output layer   \n",
        "    Dense(N_labels, activation=\"softmax\")  \n",
        "\n",
        "    ])\n",
        "    # compile model \n",
        "    model.compile(loss=\"sparse_categorical_crossentropy\", \n",
        "                 optimizer=\"adam\", \n",
        "                 metrics=[\"accuracy\"])\n",
        "    \n",
        "    return model"
      ],
      "execution_count": 6,
      "outputs": []
    },
    {
      "cell_type": "markdown",
      "metadata": {
        "id": "1rryDY1RuoRV"
      },
      "source": [
        "Again, only use `build_simple_model` instead of `build_complex_model` if you're working on a machine with very limited computational resource. "
      ]
    },
    {
      "cell_type": "code",
      "metadata": {
        "id": "esCTUKTZuoRX"
      },
      "source": [
        "# def build_simple_model(Lp_reg=None, reg_penality=None, dropout_prob=0, maxnorm_wc=None):\n",
        "#     \"\"\"\n",
        "#     Build and return a regularized 1 hidden layer FCFF model \n",
        "    \n",
        "#     Parameters\n",
        "#     ----------\n",
        "#     Lp_reg: None or object\n",
        "#         If object, Lp_reg is either l1 or l2 regularization \n",
        "#         If None, that means that l1 or l2 regularization will not be used.\n",
        "     \n",
        "#     reg_penality: None or float\n",
        "#         If float, reg_penality is a value typically between 1.0 and 0.0001\n",
        "#         This is the regularization strength for l1 or l2 \n",
        "        \n",
        "        \n",
        "#     dropout_prob: float\n",
        "#         This is the probability that dropout regularization will exclude a node from a training iteration. \n",
        "#         If this value is 0.0, that means that dropout will not be used. \n",
        "        \n",
        "#     maxnorm_wc: None or float\n",
        "#         If float, maxnorm_wc is the weight constraint that is used for Max Norm regularization\n",
        "#         If None, that means that Max Norm regularization will not be used.\n",
        "        \n",
        "        \n",
        "#     Return\n",
        "#     ------\n",
        "#     model: complied Keras model\n",
        "#     \"\"\"\n",
        "    \n",
        "#     if Lp_reg is not None:\n",
        "#         Lp_regularizer = Lp_reg(reg_penality)\n",
        "#     else:\n",
        "#         Lp_regularizer = None\n",
        "\n",
        "#     # instantiate Sequential class\n",
        "#     model = Sequential([\n",
        "\n",
        "#     # flatten images \n",
        "#     Flatten(input_shape=(28,28)),\n",
        "\n",
        "#     # hidden layer 1\n",
        "#     Dense(128,  kernel_regularizer=Lp_regularizer, kernel_constraint=maxnorm_wc), # remember that Keras refers to weight matrix as a kernel, i.e. weights = kernel\n",
        "#     # act func 1\n",
        "#     ReLU(negative_slope=0.01),\n",
        "#     Dropout(p_dropout),\n",
        "\n",
        "#     # output layer   \n",
        "#     Dense(N_labels, activation=\"softmax\")  \n",
        "\n",
        "#     ])\n",
        "#     # complie model \n",
        "#     model.compile(loss=\"sparse_categorical_crossentropy\", \n",
        "#                  optimizer=\"adam\", \n",
        "#                  metrics=[\"accuracy\"])\n",
        "    \n",
        "#     return model"
      ],
      "execution_count": 7,
      "outputs": []
    },
    {
      "cell_type": "markdown",
      "metadata": {
        "id": "pHVxm2ZCuoRZ"
      },
      "source": [
        "Since we'll be using Sklearn's GridserchCV class, we need to wrap our Keras models in `KerasClassifier`"
      ]
    },
    {
      "cell_type": "code",
      "metadata": {
        "id": "Kk8zX0sruoRa"
      },
      "source": [
        "# remember to wrap KerasClassifier around build_model for sklearn's GridsearchCV compatibility \n",
        "model = KerasClassifier(build_fn = build_complex_model)"
      ],
      "execution_count": 8,
      "outputs": []
    },
    {
      "cell_type": "markdown",
      "metadata": {
        "id": "Ix6tVLORuoRd"
      },
      "source": [
        "-------\n",
        "\n",
        "# Experiment 1: Identify the relationship between model performance and L2 penalty strength\n",
        "\n",
        "![](https://www.researchgate.net/publication/334159821/figure/fig1/AS:776025558495234@1562030319993/Ridge-regression-variable-selection.png)\n",
        "\n",
        "We are going to run a gridsearch soley on the l2 regularization penalty value and see the effect this has on model performance. \n",
        "\n",
        "By running a gridseach on only a single hyperparameter (while using the same data and model) we can isolate the effect of that hyperparameter. "
      ]
    },
    {
      "cell_type": "code",
      "metadata": {
        "id": "D1jJxJ5fuoRf"
      },
      "source": [
        "# build out our hyperparameter dictionary \n",
        "hyper_parameters = {\n",
        "    # take note that Lp_reg penalty/strength values are in powers of 10 \n",
        "    \"reg_penality\": [10.0, 1.0, 0.1, 0.01, 0.001, 0.0001, 0.00001], \n",
        "    # Since we only want to test l2, provide l2 as the sole option \n",
        "    \"Lp_reg\": [l2],\n",
        "    # default is 1, in order to change it we must provide value here because we can't provide a parameter value for model.fit() directly when using gridsearch\n",
        "    # protip: consider changing epochs to 1 if the gridsearche run-time are too long for you\n",
        "    \"epochs\": [3] \n",
        "}"
      ],
      "execution_count": 9,
      "outputs": []
    },
    {
      "cell_type": "code",
      "metadata": {
        "colab": {
          "base_uri": "https://localhost:8080/"
        },
        "id": "PDC3g1LsuoRg",
        "outputId": "4134fad1-1397-4292-e623-a06a01e68df9"
      },
      "source": [
        "start=time()\n",
        "# Create and run Grid Search\n",
        "grid = GridSearchCV(estimator=model, \n",
        "                    param_grid=hyper_parameters, \n",
        "                    n_jobs=-2, \n",
        "                    verbose=1, \n",
        "                    cv=3)\n",
        "\n",
        "grid_result = grid.fit(X_train, y_train)\n",
        "end=time()"
      ],
      "execution_count": 10,
      "outputs": [
        {
          "output_type": "stream",
          "text": [
            "Fitting 3 folds for each of 7 candidates, totalling 21 fits\n"
          ],
          "name": "stdout"
        },
        {
          "output_type": "stream",
          "text": [
            "[Parallel(n_jobs=-2)]: Using backend SequentialBackend with 1 concurrent workers.\n"
          ],
          "name": "stderr"
        },
        {
          "output_type": "stream",
          "text": [
            "Epoch 1/3\n",
            "1250/1250 [==============================] - 5s 2ms/step - loss: 894.7652 - accuracy: 0.1048\n",
            "Epoch 2/3\n",
            "1250/1250 [==============================] - 2s 2ms/step - loss: 2.3027 - accuracy: 0.1004\n",
            "Epoch 3/3\n",
            "1250/1250 [==============================] - 2s 2ms/step - loss: 2.3029 - accuracy: 0.0988\n",
            "625/625 [==============================] - 1s 1ms/step - loss: 2.3031 - accuracy: 0.0967\n",
            "Epoch 1/3\n",
            "1250/1250 [==============================] - 3s 2ms/step - loss: 892.8959 - accuracy: 0.1111\n",
            "Epoch 2/3\n",
            "1250/1250 [==============================] - 2s 2ms/step - loss: 2.3029 - accuracy: 0.0991\n",
            "Epoch 3/3\n",
            "1250/1250 [==============================] - 2s 2ms/step - loss: 2.3030 - accuracy: 0.0996\n",
            "625/625 [==============================] - 1s 2ms/step - loss: 2.3029 - accuracy: 0.0978\n",
            "Epoch 1/3\n",
            "1250/1250 [==============================] - 3s 2ms/step - loss: 892.7517 - accuracy: 0.1089\n",
            "Epoch 2/3\n",
            "1250/1250 [==============================] - 2s 2ms/step - loss: 2.3030 - accuracy: 0.0961\n",
            "Epoch 3/3\n",
            "1250/1250 [==============================] - 2s 2ms/step - loss: 2.3029 - accuracy: 0.1042\n",
            "625/625 [==============================] - 1s 1ms/step - loss: 2.3030 - accuracy: 0.0967\n",
            "Epoch 1/3\n",
            "1250/1250 [==============================] - 3s 2ms/step - loss: 91.5138 - accuracy: 0.1445\n",
            "Epoch 2/3\n",
            "1250/1250 [==============================] - 2s 2ms/step - loss: 2.3029 - accuracy: 0.1008\n",
            "Epoch 3/3\n",
            "1250/1250 [==============================] - 2s 2ms/step - loss: 2.3029 - accuracy: 0.0985\n",
            "625/625 [==============================] - 1s 2ms/step - loss: 2.3029 - accuracy: 0.1001\n",
            "Epoch 1/3\n",
            "1250/1250 [==============================] - 3s 2ms/step - loss: 91.4940 - accuracy: 0.1481\n",
            "Epoch 2/3\n",
            "1250/1250 [==============================] - 2s 2ms/step - loss: 2.3030 - accuracy: 0.0979\n",
            "Epoch 3/3\n",
            "1250/1250 [==============================] - 2s 2ms/step - loss: 2.3030 - accuracy: 0.0988\n",
            "625/625 [==============================] - 1s 1ms/step - loss: 2.3029 - accuracy: 0.0995\n",
            "Epoch 1/3\n",
            "1250/1250 [==============================] - 3s 2ms/step - loss: 91.4532 - accuracy: 0.1439\n",
            "Epoch 2/3\n",
            "1250/1250 [==============================] - 2s 2ms/step - loss: 2.3029 - accuracy: 0.0988\n",
            "Epoch 3/3\n",
            "1250/1250 [==============================] - 2s 2ms/step - loss: 2.3027 - accuracy: 0.1014\n",
            "625/625 [==============================] - 1s 1ms/step - loss: 2.3028 - accuracy: 0.0992\n",
            "Epoch 1/3\n",
            "1250/1250 [==============================] - 3s 2ms/step - loss: 11.0644 - accuracy: 0.5384\n",
            "Epoch 2/3\n",
            "1250/1250 [==============================] - 2s 2ms/step - loss: 1.3969 - accuracy: 0.6553\n",
            "Epoch 3/3\n",
            "1250/1250 [==============================] - 2s 2ms/step - loss: 1.2829 - accuracy: 0.6853\n",
            "625/625 [==============================] - 1s 2ms/step - loss: 1.2375 - accuracy: 0.7058\n",
            "Epoch 1/3\n",
            "1250/1250 [==============================] - 3s 2ms/step - loss: 10.9787 - accuracy: 0.5323\n",
            "Epoch 2/3\n",
            "1250/1250 [==============================] - 2s 2ms/step - loss: 1.4106 - accuracy: 0.6562\n",
            "Epoch 3/3\n",
            "1250/1250 [==============================] - 2s 2ms/step - loss: 1.2897 - accuracy: 0.6916\n",
            "625/625 [==============================] - 1s 1ms/step - loss: 1.2264 - accuracy: 0.7167\n",
            "Epoch 1/3\n",
            "1250/1250 [==============================] - 3s 2ms/step - loss: 11.0149 - accuracy: 0.5668\n",
            "Epoch 2/3\n",
            "1250/1250 [==============================] - 2s 2ms/step - loss: 1.4000 - accuracy: 0.6718\n",
            "Epoch 3/3\n",
            "1250/1250 [==============================] - 2s 2ms/step - loss: 1.2960 - accuracy: 0.6897\n",
            "625/625 [==============================] - 1s 2ms/step - loss: 1.2586 - accuracy: 0.6995\n",
            "Epoch 1/3\n",
            "1250/1250 [==============================] - 3s 2ms/step - loss: 2.8412 - accuracy: 0.7235\n",
            "Epoch 2/3\n",
            "1250/1250 [==============================] - 2s 2ms/step - loss: 0.8533 - accuracy: 0.7882\n",
            "Epoch 3/3\n",
            "1250/1250 [==============================] - 2s 2ms/step - loss: 0.7796 - accuracy: 0.8023\n",
            "625/625 [==============================] - 1s 1ms/step - loss: 0.7252 - accuracy: 0.8123\n",
            "Epoch 1/3\n",
            "1250/1250 [==============================] - 3s 2ms/step - loss: 2.8091 - accuracy: 0.7269\n",
            "Epoch 2/3\n",
            "1250/1250 [==============================] - 2s 2ms/step - loss: 0.8600 - accuracy: 0.7863\n",
            "Epoch 3/3\n",
            "1250/1250 [==============================] - 2s 2ms/step - loss: 0.7820 - accuracy: 0.8044\n",
            "625/625 [==============================] - 1s 1ms/step - loss: 0.7401 - accuracy: 0.8189\n",
            "Epoch 1/3\n",
            "1250/1250 [==============================] - 3s 2ms/step - loss: 2.8062 - accuracy: 0.7165\n",
            "Epoch 2/3\n",
            "1250/1250 [==============================] - 2s 2ms/step - loss: 0.8622 - accuracy: 0.7818\n",
            "Epoch 3/3\n",
            "1250/1250 [==============================] - 2s 2ms/step - loss: 0.7812 - accuracy: 0.8024\n",
            "625/625 [==============================] - 1s 1ms/step - loss: 0.7374 - accuracy: 0.8163\n",
            "Epoch 1/3\n",
            "1250/1250 [==============================] - 3s 2ms/step - loss: 1.2051 - accuracy: 0.7634\n",
            "Epoch 2/3\n",
            "1250/1250 [==============================] - 2s 2ms/step - loss: 0.6337 - accuracy: 0.8389\n",
            "Epoch 3/3\n",
            "1250/1250 [==============================] - 2s 2ms/step - loss: 0.5516 - accuracy: 0.8497\n",
            "625/625 [==============================] - 1s 1ms/step - loss: 0.5243 - accuracy: 0.8512\n",
            "Epoch 1/3\n",
            "1250/1250 [==============================] - 3s 2ms/step - loss: 1.2406 - accuracy: 0.7499\n",
            "Epoch 2/3\n",
            "1250/1250 [==============================] - 2s 2ms/step - loss: 0.6323 - accuracy: 0.8362\n",
            "Epoch 3/3\n",
            "1250/1250 [==============================] - 2s 2ms/step - loss: 0.5524 - accuracy: 0.8484\n",
            "625/625 [==============================] - 1s 1ms/step - loss: 0.5188 - accuracy: 0.8578\n",
            "Epoch 1/3\n",
            "1250/1250 [==============================] - 3s 2ms/step - loss: 1.2282 - accuracy: 0.7570\n",
            "Epoch 2/3\n",
            "1250/1250 [==============================] - 2s 2ms/step - loss: 0.6348 - accuracy: 0.8370\n",
            "Epoch 3/3\n",
            "1250/1250 [==============================] - 2s 2ms/step - loss: 0.5644 - accuracy: 0.8421\n",
            "625/625 [==============================] - 1s 2ms/step - loss: 0.5255 - accuracy: 0.8512\n",
            "Epoch 1/3\n",
            "1250/1250 [==============================] - 3s 2ms/step - loss: 0.7412 - accuracy: 0.7678\n",
            "Epoch 2/3\n",
            "1250/1250 [==============================] - 2s 2ms/step - loss: 0.4788 - accuracy: 0.8552\n",
            "Epoch 3/3\n",
            "1250/1250 [==============================] - 2s 2ms/step - loss: 0.4280 - accuracy: 0.8705\n",
            "625/625 [==============================] - 1s 1ms/step - loss: 0.4493 - accuracy: 0.8608\n",
            "Epoch 1/3\n",
            "1250/1250 [==============================] - 3s 2ms/step - loss: 0.7388 - accuracy: 0.7653\n",
            "Epoch 2/3\n",
            "1250/1250 [==============================] - 2s 2ms/step - loss: 0.4779 - accuracy: 0.8518\n",
            "Epoch 3/3\n",
            "1250/1250 [==============================] - 2s 2ms/step - loss: 0.4383 - accuracy: 0.8632\n",
            "625/625 [==============================] - 1s 1ms/step - loss: 0.4240 - accuracy: 0.8706\n",
            "Epoch 1/3\n",
            "1250/1250 [==============================] - 3s 2ms/step - loss: 0.7549 - accuracy: 0.7657\n",
            "Epoch 2/3\n",
            "1250/1250 [==============================] - 2s 2ms/step - loss: 0.4760 - accuracy: 0.8557\n",
            "Epoch 3/3\n",
            "1250/1250 [==============================] - 2s 2ms/step - loss: 0.4385 - accuracy: 0.8677\n",
            "625/625 [==============================] - 1s 1ms/step - loss: 0.4362 - accuracy: 0.8673\n",
            "Epoch 1/3\n",
            "1250/1250 [==============================] - 3s 2ms/step - loss: 0.6677 - accuracy: 0.7680\n",
            "Epoch 2/3\n",
            "1250/1250 [==============================] - 2s 2ms/step - loss: 0.4068 - accuracy: 0.8556\n",
            "Epoch 3/3\n",
            "1250/1250 [==============================] - 2s 2ms/step - loss: 0.3653 - accuracy: 0.8712\n",
            "625/625 [==============================] - 1s 1ms/step - loss: 0.3769 - accuracy: 0.8656\n",
            "Epoch 1/3\n",
            "1250/1250 [==============================] - 3s 2ms/step - loss: 0.6689 - accuracy: 0.7653\n",
            "Epoch 2/3\n",
            "1250/1250 [==============================] - 2s 2ms/step - loss: 0.4084 - accuracy: 0.8557\n",
            "Epoch 3/3\n",
            "1250/1250 [==============================] - 2s 2ms/step - loss: 0.3604 - accuracy: 0.8723\n",
            "625/625 [==============================] - 1s 1ms/step - loss: 0.3630 - accuracy: 0.8748\n",
            "Epoch 1/3\n",
            "1250/1250 [==============================] - 3s 2ms/step - loss: 0.6676 - accuracy: 0.7662\n",
            "Epoch 2/3\n",
            "1250/1250 [==============================] - 2s 2ms/step - loss: 0.4089 - accuracy: 0.8564\n",
            "Epoch 3/3\n",
            "1250/1250 [==============================] - 2s 2ms/step - loss: 0.3667 - accuracy: 0.8717\n",
            "625/625 [==============================] - 1s 2ms/step - loss: 0.3901 - accuracy: 0.8629\n",
            "Epoch 1/3\n"
          ],
          "name": "stdout"
        },
        {
          "output_type": "stream",
          "text": [
            "[Parallel(n_jobs=-2)]: Done  21 out of  21 | elapsed:  3.1min finished\n"
          ],
          "name": "stderr"
        },
        {
          "output_type": "stream",
          "text": [
            "1875/1875 [==============================] - 4s 2ms/step - loss: 0.6204 - accuracy: 0.7864\n",
            "Epoch 2/3\n",
            "1875/1875 [==============================] - 3s 2ms/step - loss: 0.3773 - accuracy: 0.8663\n",
            "Epoch 3/3\n",
            "1875/1875 [==============================] - 3s 2ms/step - loss: 0.3418 - accuracy: 0.8798\n"
          ],
          "name": "stdout"
        }
      ]
    },
    {
      "cell_type": "code",
      "metadata": {
        "id": "Qqb1fnB_uoRi",
        "colab": {
          "base_uri": "https://localhost:8080/"
        },
        "outputId": "cb50fe5e-b2f9-4e48-873d-a605a2a1fcf5"
      },
      "source": [
        "print(\"Gridsearch runtime {0:.3} mins\".format( (end-start)/60 ))"
      ],
      "execution_count": 11,
      "outputs": [
        {
          "output_type": "stream",
          "text": [
            "Gridsearch runtime 3.32 mins\n"
          ],
          "name": "stdout"
        }
      ]
    },
    {
      "cell_type": "code",
      "metadata": {
        "id": "eJWMAI1_uoRj",
        "colab": {
          "base_uri": "https://localhost:8080/",
          "height": 408
        },
        "outputId": "c033b91c-011a-4d12-dd94-483a95351c40"
      },
      "source": [
        "# use the mean accuracy from the CV splits for determining best model score \n",
        "means = grid_result.cv_results_['mean_test_score']\n",
        "stds = grid_result.cv_results_['std_test_score']\n",
        "params = grid_result.cv_results_['params']\n",
        "\n",
        "# move l2 penalty values outside of dictionary and into a list\n",
        "param_values = [dic[\"reg_penality\"] for dic in params]\n",
        "\n",
        "# plot accuracy vs l2_reg_penalty\n",
        "plt.figure(figsize=(20,6))\n",
        "plt.grid()\n",
        "\n",
        "# this plot is using the std of the CV splits to plot error bars however those values are so small that they aren't visable\n",
        "plt.errorbar(param_values, means, yerr=stds, ecolor=\"orange\")\n",
        "plt.xscale(\"log\") # use a log scale for ease of reading, recall that l2_reg_penalty were in powers of 10 \n",
        "plt.title(\"L2 Regularization: Model Accuracy vs L2 Penalty Strength\")\n",
        "plt.ylabel(\"Validation Accuracy\", )\n",
        "plt.xlabel(\"L2 Penalty Strength usng a Log Scale\");"
      ],
      "execution_count": 12,
      "outputs": [
        {
          "output_type": "display_data",
          "data": {
            "image/png": "[encoded data removed]",
            "text/plain": [
              "<Figure size 1440x432 with 1 Axes>"
            ]
          },
          "metadata": {
            "tags": [],
            "needs_background": "light"
          }
        }
      ]
    },
    {
      "cell_type": "markdown",
      "metadata": {
        "id": "12Rh_jHVuoRk"
      },
      "source": [
        "### Observations\n",
        "\n",
        "Write down some observations. What do you notice from the plot?"
      ]
    },
    {
      "cell_type": "markdown",
      "metadata": {
        "deletable": false,
        "nbgrader": {
          "cell_type": "markdown",
          "checksum": "089b55b5a84d9c96c51fd341d9e6c74f",
          "grade": true,
          "grade_id": "cell-010212fc0915b976",
          "locked": false,
          "points": 0,
          "schema_version": 3,
          "solution": true,
          "task": false
        },
        "id": "douRfEhwuoRl"
      },
      "source": [
        "**The lower L2 penalty strength has the best results. As the Penalty Strength increases, the validation accuracy decreases.**"
      ]
    },
    {
      "cell_type": "markdown",
      "metadata": {
        "id": "pWhxX49VuoRl"
      },
      "source": [
        "\n",
        "## Compare Weights between Best and Worse Model \n",
        "\n",
        "Next, we are going to compare the hidden layer weights between the best and worse performing model while taking note of the respective l2 penalty strengths."
      ]
    },
    {
      "cell_type": "code",
      "metadata": {
        "id": "X4Sy2C-7uoRm"
      },
      "source": [
        "# get the best l2 penalty term \n",
        "best_lr_penalty = grid_result.best_params_[\"reg_penality\"]\n",
        "\n",
        "# get the best trained model \n",
        "# best_model = grid_result.best_estimator_.build_fn(Lp_reg=l2, reg_penality=best_lr_penalty)\n",
        "best_model = grid_result.best_estimator_.model\n",
        "\n",
        "# get the weights from the best trained model \n",
        "best_weights = best_model.get_weights()"
      ],
      "execution_count": 107,
      "outputs": []
    },
    {
      "cell_type": "code",
      "metadata": {
        "id": "F6w8yVzZuoRp",
        "colab": {
          "base_uri": "https://localhost:8080/"
        },
        "outputId": "c8926291-351e-499c-f3e6-af2bc0edc7d8"
      },
      "source": [
        "# train a model using the l2_reg_penalty value at scored the lowest \n",
        "worse_l2_reg_penalty = 10.0\n",
        "\n",
        "worse_model = build_complex_model(Lp_reg=l2, reg_penality=worse_l2_reg_penalty)\n",
        "\n",
        "# fit model \n",
        "worse_model.fit(X_train, y_train, epochs=3)\n",
        "\n",
        "# get weights from worse performing model \n",
        "worse_weights = worse_model.get_weights()"
      ],
      "execution_count": 14,
      "outputs": [
        {
          "output_type": "stream",
          "text": [
            "Epoch 1/3\n",
            "1875/1875 [==============================] - 4s 2ms/step - loss: 648.7845 - accuracy: 0.1164\n",
            "Epoch 2/3\n",
            "1875/1875 [==============================] - 3s 2ms/step - loss: 2.3028 - accuracy: 0.1010\n",
            "Epoch 3/3\n",
            "1875/1875 [==============================] - 3s 2ms/step - loss: 2.3030 - accuracy: 0.0977\n"
          ],
          "name": "stdout"
        }
      ]
    },
    {
      "cell_type": "markdown",
      "metadata": {
        "id": "10xZ6d9JuoRq"
      },
      "source": [
        "-----\n",
        "## Understanding how Weights and Biases are stored"
      ]
    },
    {
      "cell_type": "markdown",
      "metadata": {
        "id": "HF2Pw3ipuoRq"
      },
      "source": [
        "Let's take a minute to understand that`.get_weights()` returns a list with 8 elements (if you're using `build_complex_model`)."
      ]
    },
    {
      "cell_type": "code",
      "metadata": {
        "id": "t2DXcPHtuoRr",
        "colab": {
          "base_uri": "https://localhost:8080/"
        },
        "outputId": "482048ab-4742-4ed2-cb26-d37f64f0e5b0"
      },
      "source": [
        "len(best_weights)"
      ],
      "execution_count": 108,
      "outputs": [
        {
          "output_type": "execute_result",
          "data": {
            "text/plain": [
              "8"
            ]
          },
          "metadata": {
            "tags": []
          },
          "execution_count": 108
        }
      ]
    },
    {
      "cell_type": "markdown",
      "metadata": {
        "id": "VwGltSfUuoRs"
      },
      "source": [
        "There are **weights matrices and bias vectors between each layer** and we have 5 layers. \n",
        "\n",
        "- Input\n",
        "- Hidden 1\n",
        "- Hidden 2\n",
        "- Hidden 3\n",
        "- Output \n",
        "\n",
        "So that means we should have 4 weight matrices, but we see 8. **There are also 4 weight vectors for the biases between each layer.** So that accounts for the 8. \n",
        "\n",
        "\n",
        "#### Index for Weight Matrices \n",
        "If you index for a weight matrix, you can see its shape and that they are indeed matrices. \n",
        "\n",
        "Notice how you can see the dims of the layers that the matrices are sandwiched between?\n",
        "\n",
        "Input layer has 784 dims and hidden layer 1 has 500 nodes/dims. Given this understanding, the numbers you see in the shapes should make sense. "
      ]
    },
    {
      "cell_type": "code",
      "metadata": {
        "id": "8YArQyW0uoRu",
        "colab": {
          "base_uri": "https://localhost:8080/"
        },
        "outputId": "39511574-a57e-4fde-c83b-6e2c017dede2"
      },
      "source": [
        "# bewteen input and 1st hidden layer\n",
        "best_weights[0].shape"
      ],
      "execution_count": 109,
      "outputs": [
        {
          "output_type": "execute_result",
          "data": {
            "text/plain": [
              "(784, 500)"
            ]
          },
          "metadata": {
            "tags": []
          },
          "execution_count": 109
        }
      ]
    },
    {
      "cell_type": "code",
      "metadata": {
        "id": "Wz8lY0L4uoRu",
        "colab": {
          "base_uri": "https://localhost:8080/"
        },
        "outputId": "12d94293-3312-4f03-ea00-09f0eaf0355f"
      },
      "source": [
        "# bewteen 1st and 2nd hidden layer\n",
        "best_weights[2].shape"
      ],
      "execution_count": 21,
      "outputs": [
        {
          "output_type": "execute_result",
          "data": {
            "text/plain": [
              "(500, 250)"
            ]
          },
          "metadata": {
            "tags": []
          },
          "execution_count": 21
        }
      ]
    },
    {
      "cell_type": "code",
      "metadata": {
        "id": "GXUMDFNWuoRv",
        "colab": {
          "base_uri": "https://localhost:8080/"
        },
        "outputId": "580f79b6-8e19-4480-c6f4-4ea4d7a46acb"
      },
      "source": [
        "# bewteen 2st and 3nd hidden layer\n",
        "best_weights[4].shape"
      ],
      "execution_count": 22,
      "outputs": [
        {
          "output_type": "execute_result",
          "data": {
            "text/plain": [
              "(250, 64)"
            ]
          },
          "metadata": {
            "tags": []
          },
          "execution_count": 22
        }
      ]
    },
    {
      "cell_type": "code",
      "metadata": {
        "id": "HnjyhHrWuoRw",
        "colab": {
          "base_uri": "https://localhost:8080/"
        },
        "outputId": "2e4a548c-6edd-4b45-e570-8104ef00bc2b"
      },
      "source": [
        "# bewteen 3rd hidden layer and output layer\n",
        "best_weights[6].shape"
      ],
      "execution_count": 23,
      "outputs": [
        {
          "output_type": "execute_result",
          "data": {
            "text/plain": [
              "(64, 10)"
            ]
          },
          "metadata": {
            "tags": []
          },
          "execution_count": 23
        }
      ]
    },
    {
      "cell_type": "markdown",
      "metadata": {
        "id": "KIiN1emKuoRx"
      },
      "source": [
        "#### Index for the bias vectors\n",
        "\n",
        "The shapes of the bias vectors should exactly match up the dims/nodes of each layer (excluding the input layer). "
      ]
    },
    {
      "cell_type": "code",
      "metadata": {
        "id": "OO1IpwojuoRy",
        "colab": {
          "base_uri": "https://localhost:8080/"
        },
        "outputId": "8d2dbdda-c8b9-4bdc-bd50-19a248a22030"
      },
      "source": [
        "# for hidden layer 1 \n",
        "best_weights[1].shape"
      ],
      "execution_count": 25,
      "outputs": [
        {
          "output_type": "execute_result",
          "data": {
            "text/plain": [
              "(500,)"
            ]
          },
          "metadata": {
            "tags": []
          },
          "execution_count": 25
        }
      ]
    },
    {
      "cell_type": "code",
      "metadata": {
        "id": "3qMB53GuuoRz",
        "colab": {
          "base_uri": "https://localhost:8080/"
        },
        "outputId": "2eec55ab-d4cb-4e3d-e5a4-5da59e4ee00d"
      },
      "source": [
        "# for hidden layer 2 \n",
        "best_weights[3].shape"
      ],
      "execution_count": 26,
      "outputs": [
        {
          "output_type": "execute_result",
          "data": {
            "text/plain": [
              "(250,)"
            ]
          },
          "metadata": {
            "tags": []
          },
          "execution_count": 26
        }
      ]
    },
    {
      "cell_type": "code",
      "metadata": {
        "id": "SRHLWiqYuoR0",
        "colab": {
          "base_uri": "https://localhost:8080/"
        },
        "outputId": "4e26156f-7c31-4a35-9957-085901fd8957"
      },
      "source": [
        "# for hidden layer 3\n",
        "best_weights[5].shape"
      ],
      "execution_count": 27,
      "outputs": [
        {
          "output_type": "execute_result",
          "data": {
            "text/plain": [
              "(64,)"
            ]
          },
          "metadata": {
            "tags": []
          },
          "execution_count": 27
        }
      ]
    },
    {
      "cell_type": "code",
      "metadata": {
        "id": "-pgtnpj6uoR1",
        "colab": {
          "base_uri": "https://localhost:8080/"
        },
        "outputId": "95721c48-ae21-4bd1-8572-4e99713c4735"
      },
      "source": [
        "# for output layer\n",
        "best_weights[7].shape"
      ],
      "execution_count": 28,
      "outputs": [
        {
          "output_type": "execute_result",
          "data": {
            "text/plain": [
              "(10,)"
            ]
          },
          "metadata": {
            "tags": []
          },
          "execution_count": 28
        }
      ]
    },
    {
      "cell_type": "markdown",
      "metadata": {
        "id": "lLrdegzkuoR2"
      },
      "source": [
        "-----\n",
        "\n",
        "### Back to our Analysis of L2 space regularization (also known as Ridge)\n",
        "\n",
        "Let's do a comparison of the first weight matrix (between the input and 1st hidden layer) for the best and worse performing model as well as with the initial weight values that are randomly sampled from the GlorotUniform distribution.\n",
        "\n",
        "[**Check out the Keras docs for the Dense layer**](https://keras.io/api/layers/core_layers/dense/), you'll see that GlorotUniform is the default weight initializer. "
      ]
    },
    {
      "cell_type": "code",
      "metadata": {
        "deletable": false,
        "nbgrader": {
          "cell_type": "code",
          "checksum": "caa9a1024b11f3eaa91fe681fc12e24d",
          "grade": false,
          "grade_id": "cell-7882876b8973bc7b",
          "locked": false,
          "schema_version": 3,
          "solution": true,
          "task": false
        },
        "id": "R7a0gyZEuoR3"
      },
      "source": [
        "# index for the 1st hidden layer weights in best_weights and save to best_hidden_weights\n",
        "# Used .T to transpose the first column into the first row, then save the first row\n",
        "best_hidden_weights = best_weights[0].T[0]\n",
        "\n",
        "# index for the 1st hidden layer weights in worse_weights and save to worse_hidden_weights\n",
        "worse_hidden_weights = worse_weights[0].T[0]\n",
        "\n",
        "# Keras models randomly samples from the GlorotUniform distribution for the initial values of model weights \n",
        "# instantiate GlorotUniform and sample 128 weights and save to initial_weight_values\n",
        "# hint: use shape=(1, 128)\n",
        "\n",
        "# Used 784 samples in order to match the shape of the weights in the hidden layer for the model\n",
        "initializer = GlorotUniform()\n",
        "values = initializer(shape=(1, 784))[0].numpy()\n",
        "\n",
        "initial_weight_values = values"
      ],
      "execution_count": 110,
      "outputs": []
    },
    {
      "cell_type": "code",
      "metadata": {
        "id": "WtdKd682uoR4"
      },
      "source": [
        "# move all weights to a dataframe for ease of analysis \n",
        "cols = [\"best_hidden_weights\", \"worse_hidden_weights\", \"initial_weight_values\"]\n",
        "data = [best_hidden_weights, worse_hidden_weights, initial_weight_values]\n",
        "df = pd.DataFrame(data=data).T\n",
        "df.columns = cols"
      ],
      "execution_count": 111,
      "outputs": []
    },
    {
      "cell_type": "code",
      "metadata": {
        "colab": {
          "base_uri": "https://localhost:8080/",
          "height": 419
        },
        "id": "zAtRzJK32Pgj",
        "outputId": "e8127d51-5172-42a3-d61b-2078cf5280a1"
      },
      "source": [
        "df"
      ],
      "execution_count": 112,
      "outputs": [
        {
          "output_type": "execute_result",
          "data": {
            "text/html": [
              "<div>\n",
              "<style scoped>\n",
              "    .dataframe tbody tr th:only-of-type {\n",
              "        vertical-align: middle;\n",
              "    }\n",
              "\n",
              "    .dataframe tbody tr th {\n",
              "        vertical-align: top;\n",
              "    }\n",
              "\n",
              "    .dataframe thead th {\n",
              "        text-align: right;\n",
              "    }\n",
              "</style>\n",
              "<table border=\"1\" class=\"dataframe\">\n",
              "  <thead>\n",
              "    <tr style=\"text-align: right;\">\n",
              "      <th></th>\n",
              "      <th>best_hidden_weights</th>\n",
              "      <th>worse_hidden_weights</th>\n",
              "      <th>initial_weight_values</th>\n",
              "    </tr>\n",
              "  </thead>\n",
              "  <tbody>\n",
              "    <tr>\n",
              "      <th>0</th>\n",
              "      <td>-1.323889e-15</td>\n",
              "      <td>-1.019598e-18</td>\n",
              "      <td>-0.046836</td>\n",
              "    </tr>\n",
              "    <tr>\n",
              "      <th>1</th>\n",
              "      <td>3.052949e-05</td>\n",
              "      <td>-7.140649e-19</td>\n",
              "      <td>0.017386</td>\n",
              "    </tr>\n",
              "    <tr>\n",
              "      <th>2</th>\n",
              "      <td>1.334027e-05</td>\n",
              "      <td>5.257510e-18</td>\n",
              "      <td>-0.045788</td>\n",
              "    </tr>\n",
              "    <tr>\n",
              "      <th>3</th>\n",
              "      <td>-3.423987e-03</td>\n",
              "      <td>-1.747679e-17</td>\n",
              "      <td>0.020798</td>\n",
              "    </tr>\n",
              "    <tr>\n",
              "      <th>4</th>\n",
              "      <td>2.908307e-03</td>\n",
              "      <td>1.379797e-11</td>\n",
              "      <td>-0.017774</td>\n",
              "    </tr>\n",
              "    <tr>\n",
              "      <th>...</th>\n",
              "      <td>...</td>\n",
              "      <td>...</td>\n",
              "      <td>...</td>\n",
              "    </tr>\n",
              "    <tr>\n",
              "      <th>779</th>\n",
              "      <td>9.196922e-03</td>\n",
              "      <td>1.252938e-15</td>\n",
              "      <td>-0.012181</td>\n",
              "    </tr>\n",
              "    <tr>\n",
              "      <th>780</th>\n",
              "      <td>4.937375e-02</td>\n",
              "      <td>3.300390e-16</td>\n",
              "      <td>-0.005008</td>\n",
              "    </tr>\n",
              "    <tr>\n",
              "      <th>781</th>\n",
              "      <td>2.028153e-02</td>\n",
              "      <td>1.310160e-16</td>\n",
              "      <td>-0.017693</td>\n",
              "    </tr>\n",
              "    <tr>\n",
              "      <th>782</th>\n",
              "      <td>8.877945e-03</td>\n",
              "      <td>-3.118534e-16</td>\n",
              "      <td>0.020367</td>\n",
              "    </tr>\n",
              "    <tr>\n",
              "      <th>783</th>\n",
              "      <td>3.421498e-04</td>\n",
              "      <td>-1.421419e-18</td>\n",
              "      <td>-0.068334</td>\n",
              "    </tr>\n",
              "  </tbody>\n",
              "</table>\n",
              "<p>784 rows × 3 columns</p>\n",
              "</div>"
            ],
            "text/plain": [
              "     best_hidden_weights  worse_hidden_weights  initial_weight_values\n",
              "0          -1.323889e-15         -1.019598e-18              -0.046836\n",
              "1           3.052949e-05         -7.140649e-19               0.017386\n",
              "2           1.334027e-05          5.257510e-18              -0.045788\n",
              "3          -3.423987e-03         -1.747679e-17               0.020798\n",
              "4           2.908307e-03          1.379797e-11              -0.017774\n",
              "..                   ...                   ...                    ...\n",
              "779         9.196922e-03          1.252938e-15              -0.012181\n",
              "780         4.937375e-02          3.300390e-16              -0.005008\n",
              "781         2.028153e-02          1.310160e-16              -0.017693\n",
              "782         8.877945e-03         -3.118534e-16               0.020367\n",
              "783         3.421498e-04         -1.421419e-18              -0.068334\n",
              "\n",
              "[784 rows x 3 columns]"
            ]
          },
          "metadata": {
            "tags": []
          },
          "execution_count": 112
        }
      ]
    },
    {
      "cell_type": "code",
      "metadata": {
        "id": "s61Mfuf7uoR6",
        "colab": {
          "base_uri": "https://localhost:8080/",
          "height": 297
        },
        "outputId": "279b55ca-baf9-4e45-8aa6-76362e185bf1"
      },
      "source": [
        "# check out the statistics for each weight column \n",
        "df.describe()"
      ],
      "execution_count": 113,
      "outputs": [
        {
          "output_type": "execute_result",
          "data": {
            "text/html": [
              "<div>\n",
              "<style scoped>\n",
              "    .dataframe tbody tr th:only-of-type {\n",
              "        vertical-align: middle;\n",
              "    }\n",
              "\n",
              "    .dataframe tbody tr th {\n",
              "        vertical-align: top;\n",
              "    }\n",
              "\n",
              "    .dataframe thead th {\n",
              "        text-align: right;\n",
              "    }\n",
              "</style>\n",
              "<table border=\"1\" class=\"dataframe\">\n",
              "  <thead>\n",
              "    <tr style=\"text-align: right;\">\n",
              "      <th></th>\n",
              "      <th>best_hidden_weights</th>\n",
              "      <th>worse_hidden_weights</th>\n",
              "      <th>initial_weight_values</th>\n",
              "    </tr>\n",
              "  </thead>\n",
              "  <tbody>\n",
              "    <tr>\n",
              "      <th>count</th>\n",
              "      <td>784.000000</td>\n",
              "      <td>7.840000e+02</td>\n",
              "      <td>784.000000</td>\n",
              "    </tr>\n",
              "    <tr>\n",
              "      <th>mean</th>\n",
              "      <td>-0.006547</td>\n",
              "      <td>-1.059687e-07</td>\n",
              "      <td>0.002841</td>\n",
              "    </tr>\n",
              "    <tr>\n",
              "      <th>std</th>\n",
              "      <td>0.037413</td>\n",
              "      <td>2.722892e-06</td>\n",
              "      <td>0.051348</td>\n",
              "    </tr>\n",
              "    <tr>\n",
              "      <th>min</th>\n",
              "      <td>-0.116587</td>\n",
              "      <td>-6.259822e-05</td>\n",
              "      <td>-0.087031</td>\n",
              "    </tr>\n",
              "    <tr>\n",
              "      <th>25%</th>\n",
              "      <td>-0.034002</td>\n",
              "      <td>-2.163415e-15</td>\n",
              "      <td>-0.041925</td>\n",
              "    </tr>\n",
              "    <tr>\n",
              "      <th>50%</th>\n",
              "      <td>-0.002517</td>\n",
              "      <td>-1.924085e-16</td>\n",
              "      <td>0.005745</td>\n",
              "    </tr>\n",
              "    <tr>\n",
              "      <th>75%</th>\n",
              "      <td>0.017996</td>\n",
              "      <td>1.368868e-15</td>\n",
              "      <td>0.046128</td>\n",
              "    </tr>\n",
              "    <tr>\n",
              "      <th>max</th>\n",
              "      <td>0.102698</td>\n",
              "      <td>2.055457e-05</td>\n",
              "      <td>0.087059</td>\n",
              "    </tr>\n",
              "  </tbody>\n",
              "</table>\n",
              "</div>"
            ],
            "text/plain": [
              "       best_hidden_weights  worse_hidden_weights  initial_weight_values\n",
              "count           784.000000          7.840000e+02             784.000000\n",
              "mean             -0.006547         -1.059687e-07               0.002841\n",
              "std               0.037413          2.722892e-06               0.051348\n",
              "min              -0.116587         -6.259822e-05              -0.087031\n",
              "25%              -0.034002         -2.163415e-15              -0.041925\n",
              "50%              -0.002517         -1.924085e-16               0.005745\n",
              "75%               0.017996          1.368868e-15               0.046128\n",
              "max               0.102698          2.055457e-05               0.087059"
            ]
          },
          "metadata": {
            "tags": []
          },
          "execution_count": 113
        }
      ]
    },
    {
      "cell_type": "code",
      "metadata": {
        "id": "Ev7aC7-PuoR7",
        "colab": {
          "base_uri": "https://localhost:8080/",
          "height": 716
        },
        "outputId": "28d7d143-abb8-4957-edd6-a92cf3205bec"
      },
      "source": [
        "# plot the distributions for each weight column \n",
        "df.hist(figsize=(20,12));"
      ],
      "execution_count": 114,
      "outputs": [
        {
          "output_type": "display_data",
          "data": {
            "image/png": "[encoded data removed]",
            "text/plain": [
              "<Figure size 1440x864 with 4 Axes>"
            ]
          },
          "metadata": {
            "tags": [],
            "needs_background": "light"
          }
        }
      ]
    },
    {
      "cell_type": "markdown",
      "metadata": {
        "id": "TE-E8zPquoR8"
      },
      "source": [
        "## Observations \n",
        "\n",
        "Take a look at the statistical table and the plots. Then answer the following questions. \n",
        "\n",
        "**How do the hidden layer weights from the best performing model compare to the initial weight values?**"
      ]
    },
    {
      "cell_type": "markdown",
      "metadata": {
        "deletable": false,
        "nbgrader": {
          "cell_type": "markdown",
          "checksum": "5eacb66f89b216ae3b4bb3c4b7bd6d38",
          "grade": true,
          "grade_id": "cell-6add7cc400c4c716",
          "locked": false,
          "points": 0,
          "schema_version": 3,
          "solution": true,
          "task": false
        },
        "id": "-2zT0WpiuoR9"
      },
      "source": [
        "The best hidden weight has a normal distribution, while the initial weights have a pretty uniform distribution of values."
      ]
    },
    {
      "cell_type": "markdown",
      "metadata": {
        "id": "Mc0nr9cVuoR-"
      },
      "source": [
        "**What was the effect of using a small l2 penalty value?**"
      ]
    },
    {
      "cell_type": "markdown",
      "metadata": {
        "deletable": false,
        "nbgrader": {
          "cell_type": "markdown",
          "checksum": "92ac1689b72d727ab7f4d261c5e76daa",
          "grade": true,
          "grade_id": "cell-5b4f11bba2d49639",
          "locked": false,
          "points": 0,
          "schema_version": 3,
          "solution": true,
          "task": false
        },
        "id": "RfiogWUsuoR_"
      },
      "source": [
        "They updated the weights incrementally around zero. So zero is the most common weight, with a normal distribution surrounding it."
      ]
    },
    {
      "cell_type": "markdown",
      "metadata": {
        "id": "UfzSl95kuoSA"
      },
      "source": [
        "**What was the effect of using a large l2 penalty value?**"
      ]
    },
    {
      "cell_type": "markdown",
      "metadata": {
        "deletable": false,
        "nbgrader": {
          "cell_type": "markdown",
          "checksum": "3048a6d2805f61d6fb58372c42c3ac54",
          "grade": true,
          "grade_id": "cell-0a30b62e5e119555",
          "locked": false,
          "points": 0,
          "schema_version": 3,
          "solution": true,
          "task": false
        },
        "id": "Eer1ylRuuoSA"
      },
      "source": [
        "All the weights were reduced to zero."
      ]
    },
    {
      "cell_type": "markdown",
      "metadata": {
        "id": "8CXvTEYzuoSB"
      },
      "source": [
        "**Given what you know about L2 regularization, are you surprised by these results?**"
      ]
    },
    {
      "cell_type": "markdown",
      "metadata": {
        "deletable": false,
        "nbgrader": {
          "cell_type": "markdown",
          "checksum": "d8a2034f67badfe53f601873f7026dc0",
          "grade": true,
          "grade_id": "cell-c04d067161064011",
          "locked": false,
          "points": 0,
          "schema_version": 3,
          "solution": true,
          "task": false
        },
        "id": "8daSrL7euoSB"
      },
      "source": [
        "L2 regularization pushes weights to lower values. The larger the penalty is, the lower the weights will be pushed. So for the very large penalty, all the weights were pushed to zero, or close to it. "
      ]
    },
    {
      "cell_type": "markdown",
      "metadata": {
        "id": "S2JCFlJhuoSC"
      },
      "source": [
        "----\n",
        "\n",
        "# Experiment 2: Identify the relationship between model performance and Max Norm Weight Constraint\n",
        "\n",
        "![](https://qph.fs.quoracdn.net/main-qimg-9d0dbf8074761b541ba80543ddfc9f73.webp)\n",
        "\n",
        "Recall from lecture that the **Norm** of a vector is just another word for the **length** of a vector.\n",
        "\n",
        "MaxNorm weight constraint puts a limit on the length of a weight vector.\n",
        "\n",
        "$$ \\text{Max_value_of_norm} >= {\\displaystyle \\left\\|x\\right\\|_{p}=\\left(|x_{1}|^{p}+|x_{2}|^{p}+\\dotsb +|x_{n}|^{p}\\right)^{1/p}.}$$  \n",
        "\n",
        "The effect that Lp regularization and Max Norm Weight Constraint have on the weights should be the same, but they go about it in different ways. \n",
        "\n",
        "Lp regularization (l1/Lasso and l2/Ridge) shrink the value of the weights. Where as Max Norm Weight Constraint puts a limit on how big the weight vector can be which, in effect, keeps the individual weight values small enough to keep the norm below that limit. \n",
        "\n",
        "In this experiment, we are going to run another gridseach but instead of using Lp space regularization as we did in the previous experiment, we are going to use MaxNorm and see what kind of effect that this type of regularization has on model performance and the learned weights. "
      ]
    },
    {
      "cell_type": "markdown",
      "metadata": {
        "id": "9YKQ2mYwuoSC"
      },
      "source": [
        "Since we already built our model, we just need to update the `hyper_parameters` dictionary. "
      ]
    },
    {
      "cell_type": "code",
      "metadata": {
        "id": "x6S9UcoZuoSD",
        "colab": {
          "base_uri": "https://localhost:8080/"
        },
        "outputId": "4f7cff25-e23f-46e4-b676-c6f3cfc8e6cf"
      },
      "source": [
        "# build out our hyperparameter dictionary \n",
        "hyper_parameters = {\n",
        "    \n",
        "    \"maxnorm_wc\": np.linspace(0.5, 10.0, num=20).tolist(), #added tolist() in order to get the code to work \n",
        "    # default is 1, in order to change it we must provide value here because we can't provide a parameter value for model.fit() directly when using gridsearch\n",
        "    # protip: consider changing epochs to 1 if the gridsearche run-time are too long for you    \n",
        "    \"epochs\": [1] \n",
        "}\n",
        "\n",
        "hyper_parameters"
      ],
      "execution_count": 119,
      "outputs": [
        {
          "output_type": "execute_result",
          "data": {
            "text/plain": [
              "{'epochs': [1],\n",
              " 'maxnorm_wc': [0.5,\n",
              "  1.0,\n",
              "  1.5,\n",
              "  2.0,\n",
              "  2.5,\n",
              "  3.0,\n",
              "  3.5,\n",
              "  4.0,\n",
              "  4.5,\n",
              "  5.0,\n",
              "  5.5,\n",
              "  6.0,\n",
              "  6.5,\n",
              "  7.0,\n",
              "  7.5,\n",
              "  8.0,\n",
              "  8.5,\n",
              "  9.0,\n",
              "  9.5,\n",
              "  10.0]}"
            ]
          },
          "metadata": {
            "tags": []
          },
          "execution_count": 119
        }
      ]
    },
    {
      "cell_type": "code",
      "metadata": {
        "id": "vqYuCFTouoSE",
        "colab": {
          "base_uri": "https://localhost:8080/"
        },
        "outputId": "85d6d4c1-58d1-4f46-eee3-cefda1e02c72"
      },
      "source": [
        "start=time()\n",
        "# Create and run Grid Search\n",
        "grid = GridSearchCV(estimator=model, \n",
        "                    param_grid=hyper_parameters, \n",
        "                    n_jobs=-2, \n",
        "                    verbose=1, \n",
        "                    cv=3)\n",
        "\n",
        "grid_result = grid.fit(X_train, y_train)\n",
        "end=time()"
      ],
      "execution_count": 120,
      "outputs": [
        {
          "output_type": "stream",
          "text": [
            "Fitting 3 folds for each of 20 candidates, totalling 60 fits\n"
          ],
          "name": "stdout"
        },
        {
          "output_type": "stream",
          "text": [
            "[Parallel(n_jobs=-2)]: Using backend SequentialBackend with 1 concurrent workers.\n"
          ],
          "name": "stderr"
        },
        {
          "output_type": "stream",
          "text": [
            "1250/1250 [==============================] - 3s 2ms/step - loss: 0.7881 - accuracy: 0.7128\n",
            "625/625 [==============================] - 1s 1ms/step - loss: 0.5332 - accuracy: 0.7965\n",
            "1250/1250 [==============================] - 3s 2ms/step - loss: 0.7799 - accuracy: 0.7124\n",
            "625/625 [==============================] - 1s 1ms/step - loss: 0.5016 - accuracy: 0.8227\n",
            "1250/1250 [==============================] - 3s 2ms/step - loss: 0.7787 - accuracy: 0.7132\n",
            "625/625 [==============================] - 1s 1ms/step - loss: 0.5031 - accuracy: 0.8141\n",
            "1250/1250 [==============================] - 3s 2ms/step - loss: 0.6850 - accuracy: 0.7542\n",
            "625/625 [==============================] - 1s 1ms/step - loss: 0.4443 - accuracy: 0.8316\n",
            "1250/1250 [==============================] - 3s 2ms/step - loss: 0.6570 - accuracy: 0.7688\n",
            "625/625 [==============================] - 1s 1ms/step - loss: 0.4258 - accuracy: 0.8504\n",
            "1250/1250 [==============================] - 3s 2ms/step - loss: 0.6841 - accuracy: 0.7576\n",
            "625/625 [==============================] - 1s 1ms/step - loss: 0.4057 - accuracy: 0.8522\n",
            "1250/1250 [==============================] - 3s 2ms/step - loss: 0.6634 - accuracy: 0.7663\n",
            "625/625 [==============================] - 1s 1ms/step - loss: 0.3912 - accuracy: 0.8564\n",
            "1250/1250 [==============================] - 3s 2ms/step - loss: 0.6794 - accuracy: 0.7548\n",
            "625/625 [==============================] - 1s 1ms/step - loss: 0.3919 - accuracy: 0.8581\n",
            "1250/1250 [==============================] - 3s 2ms/step - loss: 0.6338 - accuracy: 0.7748\n",
            "625/625 [==============================] - 1s 1ms/step - loss: 0.4740 - accuracy: 0.8221\n",
            "1250/1250 [==============================] - 3s 2ms/step - loss: 0.6506 - accuracy: 0.7677\n",
            "625/625 [==============================] - 1s 1ms/step - loss: 0.4282 - accuracy: 0.8438\n",
            "1250/1250 [==============================] - 3s 2ms/step - loss: 0.6511 - accuracy: 0.7641\n",
            "625/625 [==============================] - 1s 1ms/step - loss: 0.4019 - accuracy: 0.8587\n",
            "1250/1250 [==============================] - 3s 2ms/step - loss: 0.6469 - accuracy: 0.7676\n",
            "625/625 [==============================] - 1s 2ms/step - loss: 0.4550 - accuracy: 0.8343\n",
            "1250/1250 [==============================] - 3s 2ms/step - loss: 0.6555 - accuracy: 0.7691\n",
            "625/625 [==============================] - 1s 1ms/step - loss: 0.4027 - accuracy: 0.8508\n",
            "1250/1250 [==============================] - 3s 2ms/step - loss: 0.6490 - accuracy: 0.7684\n",
            "625/625 [==============================] - 1s 1ms/step - loss: 0.4146 - accuracy: 0.8498\n",
            "1250/1250 [==============================] - 3s 2ms/step - loss: 0.6623 - accuracy: 0.7641\n",
            "625/625 [==============================] - 1s 1ms/step - loss: 0.4220 - accuracy: 0.8519\n",
            "1250/1250 [==============================] - 3s 2ms/step - loss: 0.6498 - accuracy: 0.7676\n",
            "625/625 [==============================] - 1s 1ms/step - loss: 0.4067 - accuracy: 0.8490\n",
            "1250/1250 [==============================] - 3s 2ms/step - loss: 0.6510 - accuracy: 0.7652\n",
            "625/625 [==============================] - 1s 1ms/step - loss: 0.4022 - accuracy: 0.8518\n",
            "1250/1250 [==============================] - 3s 2ms/step - loss: 0.6517 - accuracy: 0.7708\n",
            "625/625 [==============================] - 1s 1ms/step - loss: 0.5083 - accuracy: 0.8196\n",
            "1250/1250 [==============================] - 3s 2ms/step - loss: 0.6443 - accuracy: 0.7725\n",
            "625/625 [==============================] - 1s 1ms/step - loss: 0.4020 - accuracy: 0.8481\n",
            "1250/1250 [==============================] - 3s 2ms/step - loss: 0.6638 - accuracy: 0.7600\n",
            "625/625 [==============================] - 1s 1ms/step - loss: 0.4024 - accuracy: 0.8522\n",
            "1250/1250 [==============================] - 3s 2ms/step - loss: 0.6643 - accuracy: 0.7602\n",
            "625/625 [==============================] - 1s 1ms/step - loss: 0.4159 - accuracy: 0.8471\n",
            "1250/1250 [==============================] - 3s 2ms/step - loss: 0.6479 - accuracy: 0.7690\n",
            "625/625 [==============================] - 1s 1ms/step - loss: 0.4243 - accuracy: 0.8414\n",
            "1250/1250 [==============================] - 3s 2ms/step - loss: 0.6581 - accuracy: 0.7661\n",
            "625/625 [==============================] - 1s 1ms/step - loss: 0.4274 - accuracy: 0.8447\n",
            "1250/1250 [==============================] - 3s 2ms/step - loss: 0.6451 - accuracy: 0.7729\n",
            "625/625 [==============================] - 1s 1ms/step - loss: 0.4286 - accuracy: 0.8457\n",
            "1250/1250 [==============================] - 3s 2ms/step - loss: 0.6574 - accuracy: 0.7631\n",
            "625/625 [==============================] - 1s 1ms/step - loss: 0.4745 - accuracy: 0.8249\n",
            "1250/1250 [==============================] - 3s 2ms/step - loss: 0.6582 - accuracy: 0.7622\n",
            "625/625 [==============================] - 1s 1ms/step - loss: 0.4029 - accuracy: 0.8544\n",
            "1250/1250 [==============================] - 3s 2ms/step - loss: 0.6570 - accuracy: 0.7680\n",
            "625/625 [==============================] - 1s 1ms/step - loss: 0.4342 - accuracy: 0.8403\n",
            "1250/1250 [==============================] - 3s 2ms/step - loss: 0.6515 - accuracy: 0.7651\n",
            "625/625 [==============================] - 1s 1ms/step - loss: 0.4223 - accuracy: 0.8457\n",
            "1250/1250 [==============================] - 3s 2ms/step - loss: 0.6629 - accuracy: 0.7647\n",
            "625/625 [==============================] - 1s 1ms/step - loss: 0.4614 - accuracy: 0.8425\n",
            "1250/1250 [==============================] - 3s 2ms/step - loss: 0.6548 - accuracy: 0.7652\n",
            "625/625 [==============================] - 1s 1ms/step - loss: 0.4539 - accuracy: 0.8325\n",
            "1250/1250 [==============================] - 3s 2ms/step - loss: 0.6526 - accuracy: 0.7713\n",
            "625/625 [==============================] - 1s 1ms/step - loss: 0.4160 - accuracy: 0.8465\n",
            "1250/1250 [==============================] - 3s 2ms/step - loss: 0.6552 - accuracy: 0.7595\n",
            "625/625 [==============================] - 1s 1ms/step - loss: 0.4184 - accuracy: 0.8457\n",
            "1250/1250 [==============================] - 3s 2ms/step - loss: 0.6521 - accuracy: 0.7617\n",
            "625/625 [==============================] - 1s 1ms/step - loss: 0.4513 - accuracy: 0.8357\n",
            "1250/1250 [==============================] - 3s 2ms/step - loss: 0.6409 - accuracy: 0.7687\n",
            "625/625 [==============================] - 1s 1ms/step - loss: 0.4318 - accuracy: 0.8439\n",
            "1250/1250 [==============================] - 3s 2ms/step - loss: 0.6650 - accuracy: 0.7564\n",
            "625/625 [==============================] - 1s 1ms/step - loss: 0.4346 - accuracy: 0.8421\n",
            "1250/1250 [==============================] - 3s 2ms/step - loss: 0.6496 - accuracy: 0.7640\n",
            "625/625 [==============================] - 1s 1ms/step - loss: 0.3911 - accuracy: 0.8578\n",
            "1250/1250 [==============================] - 3s 2ms/step - loss: 0.6581 - accuracy: 0.7639\n",
            "625/625 [==============================] - 1s 2ms/step - loss: 0.4012 - accuracy: 0.8566\n",
            "1250/1250 [==============================] - 3s 2ms/step - loss: 0.6675 - accuracy: 0.7616\n",
            "625/625 [==============================] - 1s 1ms/step - loss: 0.3989 - accuracy: 0.8559\n",
            "1250/1250 [==============================] - 3s 2ms/step - loss: 0.6595 - accuracy: 0.7629\n",
            "625/625 [==============================] - 1s 1ms/step - loss: 0.4356 - accuracy: 0.8443\n",
            "1250/1250 [==============================] - 3s 2ms/step - loss: 0.6622 - accuracy: 0.7609\n",
            "625/625 [==============================] - 1s 1ms/step - loss: 0.4050 - accuracy: 0.8565\n",
            "1250/1250 [==============================] - 3s 2ms/step - loss: 0.6588 - accuracy: 0.7618\n",
            "625/625 [==============================] - 1s 1ms/step - loss: 0.4002 - accuracy: 0.8508\n",
            "1250/1250 [==============================] - 3s 2ms/step - loss: 0.6625 - accuracy: 0.7677\n",
            "625/625 [==============================] - 1s 2ms/step - loss: 0.3991 - accuracy: 0.8536\n",
            "1250/1250 [==============================] - 3s 2ms/step - loss: 0.6655 - accuracy: 0.7683\n",
            "625/625 [==============================] - 1s 2ms/step - loss: 0.4808 - accuracy: 0.8274\n",
            "1250/1250 [==============================] - 3s 2ms/step - loss: 0.6542 - accuracy: 0.7661\n",
            "625/625 [==============================] - 1s 1ms/step - loss: 0.3855 - accuracy: 0.8608\n",
            "1250/1250 [==============================] - 3s 2ms/step - loss: 0.6602 - accuracy: 0.7630\n",
            "625/625 [==============================] - 1s 1ms/step - loss: 0.4072 - accuracy: 0.8528\n",
            "1250/1250 [==============================] - 3s 2ms/step - loss: 0.6364 - accuracy: 0.7656\n",
            "625/625 [==============================] - 1s 1ms/step - loss: 0.4097 - accuracy: 0.8465\n",
            "1250/1250 [==============================] - 3s 2ms/step - loss: 0.6610 - accuracy: 0.7615\n",
            "625/625 [==============================] - 1s 1ms/step - loss: 0.4196 - accuracy: 0.8462\n",
            "1250/1250 [==============================] - 3s 2ms/step - loss: 0.6471 - accuracy: 0.7707\n",
            "625/625 [==============================] - 1s 1ms/step - loss: 0.4269 - accuracy: 0.8444\n",
            "1250/1250 [==============================] - 3s 2ms/step - loss: 0.6565 - accuracy: 0.7701\n",
            "625/625 [==============================] - 1s 1ms/step - loss: 0.4038 - accuracy: 0.8533\n",
            "1250/1250 [==============================] - 3s 2ms/step - loss: 0.6690 - accuracy: 0.7621\n",
            "625/625 [==============================] - 1s 1ms/step - loss: 0.4004 - accuracy: 0.8534\n",
            "1250/1250 [==============================] - 3s 2ms/step - loss: 0.6498 - accuracy: 0.7660\n",
            "625/625 [==============================] - 1s 1ms/step - loss: 0.4335 - accuracy: 0.8454\n",
            "1250/1250 [==============================] - 3s 2ms/step - loss: 0.6347 - accuracy: 0.7745\n",
            "625/625 [==============================] - 1s 1ms/step - loss: 0.4241 - accuracy: 0.8422\n",
            "1250/1250 [==============================] - 3s 2ms/step - loss: 0.6552 - accuracy: 0.7628\n",
            "625/625 [==============================] - 1s 2ms/step - loss: 0.3967 - accuracy: 0.8571\n",
            "1250/1250 [==============================] - 3s 2ms/step - loss: 0.6594 - accuracy: 0.7671\n",
            "625/625 [==============================] - 1s 1ms/step - loss: 0.4119 - accuracy: 0.8500\n",
            "1250/1250 [==============================] - 3s 2ms/step - loss: 0.6568 - accuracy: 0.7671\n",
            "625/625 [==============================] - 1s 2ms/step - loss: 0.4058 - accuracy: 0.8501\n",
            "1250/1250 [==============================] - 3s 2ms/step - loss: 0.6622 - accuracy: 0.7627\n",
            "625/625 [==============================] - 1s 1ms/step - loss: 0.4040 - accuracy: 0.8523\n",
            "1250/1250 [==============================] - 3s 2ms/step - loss: 0.6404 - accuracy: 0.7705\n",
            "625/625 [==============================] - 1s 1ms/step - loss: 0.4220 - accuracy: 0.8442\n",
            "1250/1250 [==============================] - 3s 2ms/step - loss: 0.6558 - accuracy: 0.7657\n",
            "625/625 [==============================] - 1s 1ms/step - loss: 0.4362 - accuracy: 0.8387\n",
            "1250/1250 [==============================] - 3s 2ms/step - loss: 0.6512 - accuracy: 0.7668\n",
            "625/625 [==============================] - 1s 1ms/step - loss: 0.3950 - accuracy: 0.8554\n",
            "1250/1250 [==============================] - 3s 2ms/step - loss: 0.6510 - accuracy: 0.7689\n",
            "625/625 [==============================] - 1s 1ms/step - loss: 0.4281 - accuracy: 0.8490\n"
          ],
          "name": "stdout"
        },
        {
          "output_type": "stream",
          "text": [
            "[Parallel(n_jobs=-2)]: Done  60 out of  60 | elapsed:  4.2min finished\n"
          ],
          "name": "stderr"
        },
        {
          "output_type": "stream",
          "text": [
            "1875/1875 [==============================] - 4s 2ms/step - loss: 0.6141 - accuracy: 0.7771\n"
          ],
          "name": "stdout"
        }
      ]
    },
    {
      "cell_type": "code",
      "metadata": {
        "id": "GPGPSF3suoSE",
        "colab": {
          "base_uri": "https://localhost:8080/"
        },
        "outputId": "0bf5903c-4148-414a-c9ab-d4e939a0f61d"
      },
      "source": [
        "print(\"Gridsearch runtime {0:.3} mins\".format( (end-start)/60 ))"
      ],
      "execution_count": 121,
      "outputs": [
        {
          "output_type": "stream",
          "text": [
            "Gridsearch runtime 4.32 mins\n"
          ],
          "name": "stdout"
        }
      ]
    },
    {
      "cell_type": "code",
      "metadata": {
        "id": "iHCn63EquoSF",
        "colab": {
          "base_uri": "https://localhost:8080/",
          "height": 404
        },
        "outputId": "6014a313-80fa-4137-c06a-c802157b543f"
      },
      "source": [
        "# use the mean accuracy from the CV splits for determining best model score \n",
        "means = grid.cv_results_['mean_test_score']\n",
        "stds = grid.cv_results_['std_test_score']\n",
        "params = grid.cv_results_['params']\n",
        "\n",
        "# move l2 penalty values outside of dictionary and into a list\n",
        "param_values = [dic[\"maxnorm_wc\"] for dic in params]\n",
        "\n",
        "# plot accuracy vs l2_reg_penalty\n",
        "plt.figure(figsize=(20,6))\n",
        "plt.grid()\n",
        "plt.errorbar(param_values, means, yerr=stds, ecolor=\"orange\")\n",
        "plt.title(\"L1 Regularization: Model Accuracy vs L1 Penalty Strength\")\n",
        "plt.ylabel(\"Validation Accuracy\", )\n",
        "plt.xlabel(\"Max Norm for Weight Vector \");"
      ],
      "execution_count": 122,
      "outputs": [
        {
          "output_type": "display_data",
          "data": {
            "image/png": "[encoded data removed]",
            "text/plain": [
              "<Figure size 1440x432 with 1 Axes>"
            ]
          },
          "metadata": {
            "tags": [],
            "needs_background": "light"
          }
        }
      ]
    },
    {
      "cell_type": "code",
      "metadata": {
        "deletable": false,
        "nbgrader": {
          "cell_type": "code",
          "checksum": "cfe7bd54a7a14ba7ee63c88d6d1828b4",
          "grade": false,
          "grade_id": "cell-f67372e0b9b30614",
          "locked": false,
          "schema_version": 3,
          "solution": true,
          "task": false
        },
        "id": "27jA6K4NuoSF",
        "colab": {
          "base_uri": "https://localhost:8080/"
        },
        "outputId": "79a86994-4d88-4c1f-ca46-eb3bdabcf231"
      },
      "source": [
        "# get the best l2 penalty term from grid and save to best_max_norm_val\n",
        "\n",
        "# get the best trained model from grid and save to best_model\n",
        "\n",
        "# get the weights from the best trained model and save to best_weights\n",
        "\n",
        "best_max_norm_val = grid.best_params_['maxnorm_wc']\n",
        "best_model = grid.best_estimator_.model\n",
        "best_weights = best_model.get_weights()\n",
        "\n",
        "print(\"Best Max Norm Val:\", best_max_norm_val, \"\\n\")"
      ],
      "execution_count": 128,
      "outputs": [
        {
          "output_type": "stream",
          "text": [
            "Best Max Norm Val: 7.0 \n",
            "\n"
          ],
          "name": "stdout"
        }
      ]
    },
    {
      "cell_type": "code",
      "metadata": {
        "id": "0mpTDsp_uoSH",
        "colab": {
          "base_uri": "https://localhost:8080/"
        },
        "outputId": "0c5d9ffd-97be-4b79-ede8-03f6913685b1"
      },
      "source": [
        "# we see that the norm of our weights are indeed below the maximum allowed value \n",
        "np.linalg.norm(best_weights[0][0])"
      ],
      "execution_count": 125,
      "outputs": [
        {
          "output_type": "execute_result",
          "data": {
            "text/plain": [
              "0.96706384"
            ]
          },
          "metadata": {
            "tags": []
          },
          "execution_count": 125
        }
      ]
    },
    {
      "cell_type": "code",
      "metadata": {
        "deletable": false,
        "nbgrader": {
          "cell_type": "code",
          "checksum": "67f65bd636e3b3b3bc7d20c02ba6b666",
          "grade": false,
          "grade_id": "cell-e752c1a8c853985d",
          "locked": false,
          "schema_version": 3,
          "solution": true,
          "task": false
        },
        "id": "wKgjublYuoSH"
      },
      "source": [
        "# train a model using the max_norm_val value that scored the lowest \n",
        "\n",
        "# build a model using build_complex_model and worse_max_norm_val and save it to worse_model\n",
        "\n",
        "# fit model \n",
        "\n",
        "# get weights from worse performing model \n",
        "\n",
        "\n",
        "# YOUR CODE HERE\n",
        "raise NotImplementedError()"
      ],
      "execution_count": null,
      "outputs": []
    },
    {
      "cell_type": "code",
      "metadata": {
        "deletable": false,
        "nbgrader": {
          "cell_type": "code",
          "checksum": "a38d5d4db707124b31a662fb4743b049",
          "grade": false,
          "grade_id": "cell-5c1aa4543e68487d",
          "locked": false,
          "schema_version": 3,
          "solution": true,
          "task": false
        },
        "id": "6MnnVvOOuoSI"
      },
      "source": [
        "# YOUR CODE HERE\n",
        "raise NotImplementedError()"
      ],
      "execution_count": null,
      "outputs": []
    },
    {
      "cell_type": "code",
      "metadata": {
        "id": "1rCzFSSFuoSI"
      },
      "source": [
        "# move all weights to a dataframe for ease of analysis \n",
        "cols = [\"best_hidden_weights\", \"worse_hidden_weights\", \"initial_weight_values\"]\n",
        "data = [best_hidden_weights, worse_hidden_weights, initial_weight_values]\n",
        "df_maxnorm= pd.DataFrame(data=data).T\n",
        "df_maxnorm.columns = cols"
      ],
      "execution_count": null,
      "outputs": []
    },
    {
      "cell_type": "code",
      "metadata": {
        "id": "Nge7k6zCuoSJ"
      },
      "source": [
        "df_maxnorm.describe()"
      ],
      "execution_count": null,
      "outputs": []
    },
    {
      "cell_type": "code",
      "metadata": {
        "id": "7Pbf6gi1uoSK"
      },
      "source": [
        "# plot the distributions for each weight column \n",
        "df_maxnorm.hist(figsize=(20,12));"
      ],
      "execution_count": null,
      "outputs": []
    },
    {
      "cell_type": "markdown",
      "metadata": {
        "id": "Idwot3LduoSK"
      },
      "source": [
        "## Observations \n",
        "\n",
        "Take a look at the statistical table and the plots. Then answer the following questions. \n",
        "\n",
        "**How do the hidden layer weights from the best performing model compare to the initial weight values?**"
      ]
    },
    {
      "cell_type": "markdown",
      "metadata": {
        "deletable": false,
        "nbgrader": {
          "cell_type": "markdown",
          "checksum": "f43fe1110cdcea8d1e4b432fe78d4e49",
          "grade": true,
          "grade_id": "cell-40a44d19694941b8",
          "locked": false,
          "points": 0,
          "schema_version": 3,
          "solution": true,
          "task": false
        },
        "id": "mWRKEyH_uoSL"
      },
      "source": [
        "YOUR ANSWER HERE"
      ]
    },
    {
      "cell_type": "markdown",
      "metadata": {
        "id": "Zq6-ciz7uoSM"
      },
      "source": [
        "**What was the effect of using the weight constraint value in MaxNorm in the best performing model?**"
      ]
    },
    {
      "cell_type": "markdown",
      "metadata": {
        "deletable": false,
        "nbgrader": {
          "cell_type": "markdown",
          "checksum": "b1c59c58a5abdbc0b509983821198dba",
          "grade": true,
          "grade_id": "cell-4f9e1e134124e512",
          "locked": false,
          "points": 0,
          "schema_version": 3,
          "solution": true,
          "task": false
        },
        "id": "HxMwhJI8uoSM"
      },
      "source": [
        "YOUR ANSWER HERE"
      ]
    },
    {
      "cell_type": "markdown",
      "metadata": {
        "id": "HAl1bzPDuoSN"
      },
      "source": [
        "**What was the effect of using the weight constraint value in MaxNorm in the worse performing model?**"
      ]
    },
    {
      "cell_type": "markdown",
      "metadata": {
        "deletable": false,
        "nbgrader": {
          "cell_type": "markdown",
          "checksum": "0062b4ddfad487c39633c37f4710b752",
          "grade": true,
          "grade_id": "cell-4c289ce70c34048a",
          "locked": false,
          "points": 0,
          "schema_version": 3,
          "solution": true,
          "task": false
        },
        "id": "rV5vgYyBuoSP"
      },
      "source": [
        "YOUR ANSWER HERE"
      ]
    },
    {
      "cell_type": "markdown",
      "metadata": {
        "id": "-OtT0zJ0uoSP"
      },
      "source": [
        "**Given what you know about MaxNorm regularization, are you surprised by these results?**"
      ]
    },
    {
      "cell_type": "markdown",
      "metadata": {
        "deletable": false,
        "nbgrader": {
          "cell_type": "markdown",
          "checksum": "3c36931d3532a8cbcb4ea0c956378728",
          "grade": true,
          "grade_id": "cell-77366a912217da5d",
          "locked": false,
          "points": 0,
          "schema_version": 3,
          "solution": true,
          "task": false
        },
        "id": "BeFlrTdmuoSQ"
      },
      "source": [
        "YOUR ANSWER HERE"
      ]
    },
    {
      "cell_type": "markdown",
      "metadata": {
        "id": "ZJyX0mpWuoSR"
      },
      "source": [
        "-----\n",
        "# Experiment 3: Identify the relationship between model performance and Dropout\n",
        "\n",
        "\n",
        "![](https://miro.medium.com/max/981/1*EinUlWw1n8vbcLyT0zx4gw.png)\n",
        "\n",
        "In the 3rd and final experiment, we will use gridsearch to see how model performance is affect by varying the value of the the dropout probability. \n",
        "\n",
        "Recall from lecture that dropout tends to perform best when used with weight constraint. Since this is the case, we will gridsearch both dropout probability and the weight constraint for MaxNorm. \n",
        "\n",
        "If interested, feel free to read through the original publication on [**Drop Out**](https://jmlr.org/papers/volume15/srivastava14a.old/srivastava14a.pdf). \n",
        "\n",
        "**Key Take aways:** \n",
        "\n",
        "1. During training, dropout will probabilistically \"turn off\" some neurons in the layer that dropout is implemented in. \n",
        "2. During inference (ie. making predictions on the test set) all neurons are used (i.e. no dropout is applied).\n",
        "3. Dropout works best when used with MaxNorm\n"
      ]
    },
    {
      "cell_type": "code",
      "metadata": {
        "id": "BXs_l1QCuoSR"
      },
      "source": [
        "# build out our hyperparameter dictionary \n",
        "hyper_parameters = {\n",
        "    # for the sake of runtime, let's vary maxnorm_wc between 0.5 and 5.0\n",
        "    \"maxnorm_wc\": np.linspace(0.5, 5, num=10),\n",
        "    # take note that l1_reg_penalty values are in powers of 10 \n",
        "    \"dropout_prob\": np.linspace(0.0, 0.6, num=7), \n",
        "    \"epochs\": [1] # default is 1, in order to change it we must provide value here because we can provide a parameter value for model.fit() directly when using gridsearch\n",
        "}\n",
        "\n",
        "hyper_parameters"
      ],
      "execution_count": null,
      "outputs": []
    },
    {
      "cell_type": "code",
      "metadata": {
        "id": "IxEJFyaVuoSS"
      },
      "source": [
        "start=time()\n",
        "# Create and run Grid Search\n",
        "grid = GridSearchCV(estimator=model, \n",
        "                    param_grid=hyper_parameters, \n",
        "                    n_jobs=-2, \n",
        "                    verbose=1, \n",
        "                    cv=3)\n",
        "\n",
        "grid_result = grid.fit(X_train, y_train)\n",
        "end=time()"
      ],
      "execution_count": null,
      "outputs": []
    },
    {
      "cell_type": "code",
      "metadata": {
        "id": "yhchWtFyuoSS"
      },
      "source": [
        "print(\"Gridsearch runtime {0:.3} mins\".format( (end-start)/60 ))"
      ],
      "execution_count": null,
      "outputs": []
    },
    {
      "cell_type": "code",
      "metadata": {
        "id": "lX59WUc6uoST"
      },
      "source": [
        "# use the mean accuracy from the CV splits for determining best model score \n",
        "means = grid.cv_results_['mean_test_score']\n",
        "stds = grid.cv_results_['std_test_score']\n",
        "params = grid.cv_results_['params']\n",
        "\n",
        "# move l2 penalty values outside of dictionary and into a list\n",
        "param_values = [dic[\"dropout_prob\"] for dic in params]"
      ],
      "execution_count": null,
      "outputs": []
    },
    {
      "cell_type": "markdown",
      "metadata": {
        "id": "8bqwNRBfuoST"
      },
      "source": [
        "Since there are 2 indepdent variables this time around (dropout_prob and maxnorm_wc) which affect the validation accuracy, it's best to use a different plot. A heat map will work. "
      ]
    },
    {
      "cell_type": "code",
      "metadata": {
        "id": "3c1AegfyuoSU"
      },
      "source": [
        "dropout_prob_list = [  dic[\"dropout_prob\"]  for dic in params]\n",
        "maxnorm_wc_list = [  dic[\"maxnorm_wc\"]  for dic in params]\n",
        "data = [means, dropout_prob_list, maxnorm_wc_list ]\n",
        "\n",
        "cols = [\"val_acc\", \"dropout_prob\", \"maxnorm_wc\"]\n",
        "df_exp3 =pd.DataFrame(data=data).T\n",
        "df_exp3.columns = cols\n",
        "df_exp3.dropout_prob = df_exp3.dropout_prob.round(2)\n",
        "\n",
        "# pivot dataframe in preperation for heat map\n",
        "df_exp3 = df_exp3.pivot(\"maxnorm_wc\", \"dropout_prob\", \"val_acc\")"
      ],
      "execution_count": null,
      "outputs": []
    },
    {
      "cell_type": "code",
      "metadata": {
        "id": "CUjOs8buuoSV"
      },
      "source": [
        "# Draw a heatmap with the val_acc values in each cell\n",
        "f, ax = plt.subplots(figsize=(18, 8))\n",
        "sns.heatmap(df_exp3, annot=True,  linewidths=.5, ax=ax);"
      ],
      "execution_count": null,
      "outputs": []
    },
    {
      "cell_type": "markdown",
      "metadata": {
        "id": "8mP8GHheuoSV"
      },
      "source": [
        "### Observations \n",
        "\n",
        "We can see the dropout probabilities in the horizontal axis and the maxnorm weight constraint values in the virtical axis. The values in the cells are the validation accuracy that corresponds to a pair of regularization values.\n",
        "\n",
        "Take a look at the heat map and answer the following questions. Note that depending on which model you used (the simple or complex one) your answers might be different from that of others. "
      ]
    },
    {
      "cell_type": "markdown",
      "metadata": {
        "id": "ib64JSHCuoSW"
      },
      "source": [
        "**What range of dropout probability values tend to produce the highest validation accuracy?**"
      ]
    },
    {
      "cell_type": "markdown",
      "metadata": {
        "deletable": false,
        "nbgrader": {
          "cell_type": "markdown",
          "checksum": "0f0013d4e07104a03b4d51664a308f53",
          "grade": true,
          "grade_id": "cell-4e0cb7a9240b1531",
          "locked": false,
          "points": 0,
          "schema_version": 3,
          "solution": true,
          "task": false
        },
        "id": "jlfJAuPEuoSW"
      },
      "source": [
        "YOUR ANSWER HERE"
      ]
    },
    {
      "cell_type": "markdown",
      "metadata": {
        "id": "FIX5aoxZuoSX"
      },
      "source": [
        "**What range of maxnorm weight constraints tend to produce the highest validation accuracy?**"
      ]
    },
    {
      "cell_type": "markdown",
      "metadata": {
        "deletable": false,
        "nbgrader": {
          "cell_type": "markdown",
          "checksum": "9fd88f0bb870a910b925d60b38d17694",
          "grade": true,
          "grade_id": "cell-99539755d7d328f7",
          "locked": false,
          "points": 0,
          "schema_version": 3,
          "solution": true,
          "task": false
        },
        "id": "kmRiKQzzuoSX"
      },
      "source": [
        "YOUR ANSWER HERE"
      ]
    },
    {
      "cell_type": "markdown",
      "metadata": {
        "id": "YJQlVJ9FuoSY"
      },
      "source": [
        "**When taken together, what pair of dropout probability and maxnorm weight constraints tend to produce the highest validation accuracy?**"
      ]
    },
    {
      "cell_type": "markdown",
      "metadata": {
        "deletable": false,
        "nbgrader": {
          "cell_type": "markdown",
          "checksum": "fee1e09ed8f6d354bd7b6e2986c2b811",
          "grade": true,
          "grade_id": "cell-5e19a56b4a2d975d",
          "locked": false,
          "points": 0,
          "schema_version": 3,
          "solution": true,
          "task": false
        },
        "id": "G702qr-tuoSZ"
      },
      "source": [
        "YOUR ANSWER HERE"
      ]
    },
    {
      "cell_type": "markdown",
      "metadata": {
        "id": "rR3EHD08uoSa"
      },
      "source": [
        "**Do you think that using dropout was helpful in increasing model performance?**"
      ]
    },
    {
      "cell_type": "markdown",
      "metadata": {
        "deletable": false,
        "nbgrader": {
          "cell_type": "markdown",
          "checksum": "de9c1bcff3c5eb6266cc80632d0956f0",
          "grade": true,
          "grade_id": "cell-d2a2f7b284c801dc",
          "locked": false,
          "points": 0,
          "schema_version": 3,
          "solution": true,
          "task": false
        },
        "id": "zrfs-OcZuoSa"
      },
      "source": [
        "YOUR ANSWER HERE"
      ]
    },
    {
      "cell_type": "markdown",
      "metadata": {
        "id": "rW8n0NOnuoSb"
      },
      "source": [
        "_____\n",
        "\n",
        "### Experiment 4: Train, Save, and Load a Keras model\n",
        "\n",
        "Let's get some practice with how to save and load trained Keras models \n",
        "\n",
        "For this experiment, review the section on Saving and Loading models from the guided project in order to help you to: \n",
        "\n",
        "- Build a model of your choosing\n",
        "- Gridsearch the model with a method of your choosing\n",
        "- Save the trained model to file\n",
        "- Load the trained model from file\n",
        "- Just as we did in the Guided Project, evalute the loaded model using a test set and make sure the results of the loaded model match that of the saved model "
      ]
    },
    {
      "cell_type": "code",
      "metadata": {
        "id": "VKwQn4oSuoSc"
      },
      "source": [
        ""
      ],
      "execution_count": null,
      "outputs": []
    },
    {
      "cell_type": "code",
      "metadata": {
        "id": "FeZqJ-L5uoSc"
      },
      "source": [
        ""
      ],
      "execution_count": null,
      "outputs": []
    },
    {
      "cell_type": "code",
      "metadata": {
        "id": "EdAWLgWSuoSd"
      },
      "source": [
        ""
      ],
      "execution_count": null,
      "outputs": []
    }
  ]
}
